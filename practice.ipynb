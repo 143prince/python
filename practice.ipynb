{
 "cells": [
  {
   "cell_type": "markdown",
   "metadata": {},
   "source": [
    "1. write a program to print cube of 9.\n",
    "2. write a program to calculate the area of circle\n",
    "3. calculate the gross slary of an employee where the basic salry is 80000, HRA is 10% of basic salry and DA is 5% of basic salary."
   ]
  },
  {
   "cell_type": "code",
   "execution_count": 1,
   "metadata": {},
   "outputs": [
    {
     "name": "stdout",
     "output_type": "stream",
     "text": [
      "729\n"
     ]
    }
   ],
   "source": [
    "a=9\n",
    "a=9**3\n",
    "print(a)"
   ]
  },
  {
   "cell_type": "code",
   "execution_count": 6,
   "metadata": {},
   "outputs": [
    {
     "name": "stdout",
     "output_type": "stream",
     "text": [
      "Area of circle= 50.24\n"
     ]
    }
   ],
   "source": [
    "# area of circle \n",
    "rad=float(input('enter the rad'))\n",
    "area=3.14*r*r\n",
    "print('Area of circle=',area)"
   ]
  },
  {
   "cell_type": "code",
   "execution_count": 10,
   "metadata": {},
   "outputs": [
    {
     "name": "stdout",
     "output_type": "stream",
     "text": [
      "area of cicle= 200.96\n"
     ]
    }
   ],
   "source": [
    "r=input('enter the r')\n",
    "r=float(r)\n",
    "area=3.14*r*r\n",
    "print('area of cicle=',area)"
   ]
  },
  {
   "cell_type": "code",
   "execution_count": 13,
   "metadata": {},
   "outputs": [
    {
     "name": "stdout",
     "output_type": "stream",
     "text": [
      "area of cirlce= 28.259999999999998\n"
     ]
    }
   ],
   "source": [
    "r=3\n",
    "area=3.14*r*r\n",
    "print(\"area of cirlce=\",area)"
   ]
  },
  {
   "cell_type": "code",
   "execution_count": 14,
   "metadata": {},
   "outputs": [
    {
     "name": "stdout",
     "output_type": "stream",
     "text": [
      "calculte the gross slary= 92000\n"
     ]
    }
   ],
   "source": [
    "basic_salary= 80000\n",
    "HRA=8000\n",
    "Da=4000\n",
    "gross_salary=basic_salary+HRA+Da\n",
    "print(\"calculte the gross slary=\",gross_salary)"
   ]
  },
  {
   "cell_type": "code",
   "execution_count": 1,
   "metadata": {},
   "outputs": [
    {
     "name": "stdout",
     "output_type": "stream",
     "text": [
      "it is negative\n"
     ]
    }
   ],
   "source": [
    "num = int(input(\"enter a number\"))#program to check is a number is positive or not \n",
    "if  num>0:\n",
    "    print(\"it is positive number\")\n",
    "else:\n",
    "    print(\"it is negative\")"
   ]
  },
  {
   "cell_type": "code",
   "execution_count": 8,
   "metadata": {},
   "outputs": [
    {
     "name": "stdout",
     "output_type": "stream",
     "text": [
      "number is even\n"
     ]
    }
   ],
   "source": [
    "num=int(input(\"enter a number\"))#number is even or odd\n",
    "if num%2==0:\n",
    "    print(\"number is even\")\n",
    "else:\n",
    "    print(\"number is odd\")\n",
    "   "
   ]
  },
  {
   "cell_type": "markdown",
   "metadata": {},
   "source": [
    "# Practice question for loop "
   ]
  },
  {
   "cell_type": "code",
   "execution_count": 2,
   "metadata": {},
   "outputs": [
    {
     "name": "stdout",
     "output_type": "stream",
     "text": [
      "1 2 3 4 5 6 7 8 9 10 "
     ]
    }
   ],
   "source": [
    "for num in range(1,11):#write a program to print number 1 to 10 using a foe loop \n",
    "    print (num,end=\" \")"
   ]
  },
  {
   "cell_type": "code",
   "execution_count": 13,
   "metadata": {},
   "outputs": [
    {
     "name": "stdout",
     "output_type": "stream",
     "text": [
      "8 x 1 = 8\n",
      "8 x 2 = 16\n",
      "8 x 3 = 24\n",
      "8 x 4 = 32\n",
      "8 x 5 = 40\n",
      "8 x 6 = 48\n",
      "8 x 7 = 56\n",
      "8 x 8 = 64\n",
      "8 x 9 = 72\n",
      "8 x 10 = 80\n"
     ]
    }
   ],
   "source": [
    "i=1     #write a program to print the table of a given number using a while loop \n",
    "n=int(input(\"enter a number\"))\n",
    "while i<=10:\n",
    "    print(n,\"x\",i,\"=\",n*i)\n",
    "    i+=1\n",
    "\n"
   ]
  },
  {
   "cell_type": "code",
   "execution_count": 1,
   "metadata": {},
   "outputs": [
    {
     "name": "stdout",
     "output_type": "stream",
     "text": [
      "([2, 1], 'abc', 0, 9)\n"
     ]
    }
   ],
   "source": [
    "tupl= ([2,3],'abc',0,9)\n",
    "tupl[0][1]=1\n",
    "print(tupl)"
   ]
  },
  {
   "cell_type": "code",
   "execution_count": null,
   "metadata": {},
   "outputs": [],
   "source": []
  }
 ],
 "metadata": {
  "kernelspec": {
   "display_name": "base",
   "language": "python",
   "name": "python3"
  },
  "language_info": {
   "codemirror_mode": {
    "name": "ipython",
    "version": 3
   },
   "file_extension": ".py",
   "mimetype": "text/x-python",
   "name": "python",
   "nbconvert_exporter": "python",
   "pygments_lexer": "ipython3",
   "version": "3.12.3"
  }
 },
 "nbformat": 4,
 "nbformat_minor": 2
}
