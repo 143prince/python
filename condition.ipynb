{
 "cells": [
  {
   "cell_type": "markdown",
   "metadata": {},
   "source": [
    "# if condition "
   ]
  },
  {
   "cell_type": "code",
   "execution_count": 2,
   "metadata": {},
   "outputs": [
    {
     "name": "stdout",
     "output_type": "stream",
     "text": [
      "A\n",
      "B\n"
     ]
    }
   ],
   "source": [
    "marks = 80 #if condition \n",
    "if marks >=90:\n",
    "    print('A+')\n",
    "if marks >=80:\n",
    "    print('A')\n",
    "if marks >=70:\n",
    "    print('B')\n",
    "if marks <60:\n",
    "    print('poor performance')"
   ]
  },
  {
   "cell_type": "markdown",
   "metadata": {},
   "source": [
    "# Elif condition"
   ]
  },
  {
   "cell_type": "code",
   "execution_count": 4,
   "metadata": {},
   "outputs": [
    {
     "name": "stdout",
     "output_type": "stream",
     "text": [
      "A\n"
     ]
    }
   ],
   "source": [
    "marks = 80 #elif condition \n",
    "if marks >=90:\n",
    "    print('A+')\n",
    "elif marks >=80:\n",
    "    print('A')\n",
    "elif marks >=70:\n",
    "    print('B')\n",
    "elif marks <60:\n",
    "    print('poor performance')\n",
    "else:\n",
    "    print('invalid Marks')"
   ]
  },
  {
   "cell_type": "markdown",
   "metadata": {},
   "source": [
    "# if else confition"
   ]
  },
  {
   "cell_type": "code",
   "execution_count": 5,
   "metadata": {},
   "outputs": [
    {
     "name": "stdout",
     "output_type": "stream",
     "text": [
      "person is eligible to vote\n"
     ]
    }
   ],
   "source": [
    "age = int(input('Enter the age'))\n",
    "if age>=18:\n",
    "    print('person is eligible to vote')\n",
    "else:\n",
    "    print('person is not eligible to vote')"
   ]
  },
  {
   "cell_type": "code",
   "execution_count": 9,
   "metadata": {},
   "outputs": [
    {
     "name": "stdout",
     "output_type": "stream",
     "text": [
      "It is a vowel\n"
     ]
    }
   ],
   "source": [
    "#enter a character from user check whether it is  a vowel or not\n",
    "ch = input('enter a character')\n",
    "vowel = ['a','e','i','o','u']\n",
    "if ch in vowel:\n",
    "    print('It is a vowel')\n",
    "else:\n",
    "    print('it is not a vowel')"
   ]
  },
  {
   "cell_type": "code",
   "execution_count": 8,
   "metadata": {},
   "outputs": [
    {
     "name": "stdout",
     "output_type": "stream",
     "text": [
      "it is not a vowel\n"
     ]
    }
   ],
   "source": [
    "ch = input(\"enter a charaqcter\")\n",
    "if ch==\"a\" or ch==\"e\" or ch==\"i\" or ch==\"o\" or ch==\"u\":\n",
    "    print('it is vowel')\n",
    "else:\n",
    "    print(\"it is not a vowel\")"
   ]
  },
  {
   "cell_type": "code",
   "execution_count": 19,
   "metadata": {},
   "outputs": [
    {
     "name": "stdout",
     "output_type": "stream",
     "text": [
      "number is even\n"
     ]
    }
   ],
   "source": [
    "num = int(input(\"enter a number\"))# number is even or odd\n",
    "if num%2==0:\n",
    "    print(\"number is even\")\n",
    "else:\n",
    "    print(\"number is odd\")\n"
   ]
  },
  {
   "cell_type": "code",
   "execution_count": 20,
   "metadata": {},
   "outputs": [
    {
     "name": "stdout",
     "output_type": "stream",
     "text": [
      "Isocles triangle\n"
     ]
    }
   ],
   "source": [
    "s1=5\n",
    "s2=7\n",
    "s3=5\n",
    "if s1==s2==s3:\n",
    "    print(\"Equilatoral Triangle\")\n",
    "elif s1==s2 or s2==s3 or s3==s1:\n",
    "    print(\"Isocles triangle\")\n",
    "else:\n",
    "    print(\"scalen triangle\")"
   ]
  },
  {
   "cell_type": "markdown",
   "metadata": {},
   "source": [
    "# NESTEDIF CONDITION "
   ]
  },
  {
   "cell_type": "code",
   "execution_count": 21,
   "metadata": {},
   "outputs": [
    {
     "name": "stdout",
     "output_type": "stream",
     "text": [
      "Registration Suceesful👍\n"
     ]
    }
   ],
   "source": [
    "username=input(\"Enter the username\")\n",
    "email=input('Enter the email')\n",
    "password=input(\"enter the pasword\")\n",
    "cpassword=input(\"enter the confirm password\")\n",
    "if len(username)>5 and len(username)<15:\n",
    "    if \"@\" in email:\n",
    "        if len(password)>6 and len(password)<15:\n",
    "            if password== cpassword:\n",
    "                print(\"Registration Suceesful👍\")\n",
    "            else:\n",
    "                print(\"password and confirm password should be same😊\")\n",
    "        else:\n",
    "            print(\"password is incorrect😒\")\n",
    "    else:\n",
    "        print(\"invlid email😢\")\n",
    "else:\n",
    "    print(\"ivalid username😢\")"
   ]
  },
  {
   "cell_type": "code",
   "execution_count": 2,
   "metadata": {},
   "outputs": [
    {
     "name": "stdout",
     "output_type": "stream",
     "text": [
      "number is negative\n"
     ]
    }
   ],
   "source": [
    "num= int (input(\"enter a number\"))\n",
    "if num>=0:\n",
    "    print(\"number is positive\")\n",
    "elif num<=0:\n",
    "    print(\"number is negative\")"
   ]
  },
  {
   "cell_type": "code",
   "execution_count": null,
   "metadata": {},
   "outputs": [],
   "source": []
  }
 ],
 "metadata": {
  "kernelspec": {
   "display_name": "base",
   "language": "python",
   "name": "python3"
  },
  "language_info": {
   "codemirror_mode": {
    "name": "ipython",
    "version": 3
   },
   "file_extension": ".py",
   "mimetype": "text/x-python",
   "name": "python",
   "nbconvert_exporter": "python",
   "pygments_lexer": "ipython3",
   "version": "3.12.3"
  }
 },
 "nbformat": 4,
 "nbformat_minor": 2
}
