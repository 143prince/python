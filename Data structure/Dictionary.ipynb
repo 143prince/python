{
 "cells": [
  {
   "cell_type": "markdown",
   "metadata": {},
   "source": [
    "# Dictionary\n",
    " - how declare it \n",
    " - how to access key and values of a dictionary \n",
    " - how to use loops in dictionary \n",
    " - indexing in dictionary"
   ]
  },
  {
   "cell_type": "code",
   "execution_count": 2,
   "metadata": {},
   "outputs": [
    {
     "name": "stdout",
     "output_type": "stream",
     "text": [
      "{'name': 'jhon', 'class': 'physics', 'roll_no': 12, 'age': 18, 'marks': 70}\n"
     ]
    }
   ],
   "source": [
    "student = {\n",
    "    \"name\":\"jhon\",\n",
    "    \"class\":\"physics\",\n",
    "    \"roll_no\": 12,\n",
    "    \"age\" : 18,\n",
    "    \"marks\" : 70\n",
    "}\n",
    "print(student)\n"
   ]
  },
  {
   "cell_type": "code",
   "execution_count": 3,
   "metadata": {},
   "outputs": [
    {
     "name": "stdout",
     "output_type": "stream",
     "text": [
      "{'lucknow': [25, 30, 35], 'delhi': [30, 35, 40], 'mumbai': [35, 40, 45]}\n"
     ]
    }
   ],
   "source": [
    "temp = {\n",
    "    'lucknow' : [25,30,35],#yek keys ki bhut si values ho to use ham list ke form mr dete hai \n",
    "    'delhi' : [30,35,40],\n",
    "    'mumbai' : [35,40,45]\n",
    "}\n",
    "print(temp)"
   ]
  },
  {
   "cell_type": "code",
   "execution_count": 4,
   "metadata": {},
   "outputs": [
    {
     "name": "stdout",
     "output_type": "stream",
     "text": [
      "{'name': 'jhon', 'age': 22, 'city': 'New York'}\n"
     ]
    }
   ],
   "source": [
    "info = dict(name='jhon', age=22, city='New York')# this dict method chnage normal form to dictonaries \n",
    "print(info)"
   ]
  },
  {
   "cell_type": "code",
   "execution_count": 5,
   "metadata": {},
   "outputs": [
    {
     "name": "stdout",
     "output_type": "stream",
     "text": [
      "{'name': 'jhon', 'age': 22, 'city': 'New york'}\n"
     ]
    }
   ],
   "source": [
    "info2 = dict([('name','jhon'),('age',22),('city','New york')])\n",
    "print(info2)"
   ]
  },
  {
   "cell_type": "code",
   "execution_count": 6,
   "metadata": {},
   "outputs": [
    {
     "name": "stdout",
     "output_type": "stream",
     "text": [
      "{'name': 'jhon', 'age': 24, 'city': 'newyork'}\n"
     ]
    }
   ],
   "source": [
    "info3 = dict(name = input(\"Enter your name:\"), age = int(input(\"Enter your age:\")),city = input(\"Enter your city:\"))\n",
    "print(info3)"
   ]
  },
  {
   "cell_type": "code",
   "execution_count": 8,
   "metadata": {},
   "outputs": [
    {
     "name": "stdout",
     "output_type": "stream",
     "text": [
      "jhon\n",
      "12\n"
     ]
    }
   ],
   "source": [
    "# 1st method to access value through to key\n",
    "print(student['name'])\n",
    "print(student['roll_no'])"
   ]
  },
  {
   "cell_type": "code",
   "execution_count": 9,
   "metadata": {},
   "outputs": [
    {
     "name": "stdout",
     "output_type": "stream",
     "text": [
      "jhon\n",
      "12\n",
      "70\n"
     ]
    }
   ],
   "source": [
    "# 2nd method .get method \n",
    "print(student.get('name'))\n",
    "print(student.get('roll_no'))\n",
    "print(student.get('marks'))"
   ]
  },
  {
   "cell_type": "code",
   "execution_count": 10,
   "metadata": {},
   "outputs": [
    {
     "name": "stdout",
     "output_type": "stream",
     "text": [
      "{'name': 'jhon', 'class': 'physics', 'roll_no': 12, 'age': 18, 'marks': 70, 'school': 'DPS', 'city': 'lucknow'}\n"
     ]
    }
   ],
   "source": [
    "#to add item in a dictionary\n",
    "student['school'] = 'DPS'\n",
    "student['city']='lucknow'\n",
    "print(student)"
   ]
  },
  {
   "cell_type": "code",
   "execution_count": 16,
   "metadata": {},
   "outputs": [
    {
     "name": "stdout",
     "output_type": "stream",
     "text": [
      "dict_keys(['name', 'class', 'roll_no', 'age', 'marks', 'school', 'city'])\n",
      "dict_values(['jhon', 'physics', 12, 18, 70, 'DPS', 'lucknow'])\n",
      "dict_items([('name', 'jhon'), ('class', 'physics'), ('roll_no', 12), ('age', 18), ('marks', 70), ('school', 'DPS'), ('city', 'lucknow')])\n"
     ]
    }
   ],
   "source": [
    "print(student.keys())\n",
    "print(student.values())\n",
    "print(student.items())# ye keys and values dono print karta hai in the form of list to iske liye ham .items method ka use karte hai "
   ]
  },
  {
   "cell_type": "code",
   "execution_count": 14,
   "metadata": {},
   "outputs": [
    {
     "name": "stdout",
     "output_type": "stream",
     "text": [
      "name\n",
      "class\n",
      "roll_no\n",
      "age\n",
      "marks\n",
      "school\n",
      "city\n"
     ]
    }
   ],
   "source": [
    "for k in student: #loop lagya hai sirf keys ko normal aise hi dekhne ke liye \n",
    "    print(k)"
   ]
  },
  {
   "cell_type": "code",
   "execution_count": 15,
   "metadata": {},
   "outputs": [
    {
     "name": "stdout",
     "output_type": "stream",
     "text": [
      "name:jhon\n",
      "class:physics\n",
      "roll_no:12\n",
      "age:18\n",
      "marks:70\n",
      "school:DPS\n",
      "city:lucknow\n"
     ]
    }
   ],
   "source": [
    "for k,v in student.items():# keys aur values dono chaiye vo bhi noraml form me na ki list ke form me \n",
    "    print(f'{k}:{v}')"
   ]
  },
  {
   "cell_type": "markdown",
   "metadata": {},
   "source": [
    "# nested dictionary"
   ]
  },
  {
   "cell_type": "code",
   "execution_count": 17,
   "metadata": {},
   "outputs": [
    {
     "name": "stdout",
     "output_type": "stream",
     "text": [
      "{'emp001': {'name': 'jhon', 'age': 27, 'dept': 'hr', 'slary': 30000}, 'emp002': {'name': 'smith', 'age': 24, 'dept': 'engineering', 'slary': 50000}, 'emp003': {'name': 'mark', 'age': 30, 'dept': 'finance', 'slary': 40000}}\n"
     ]
    }
   ],
   "source": [
    "company= {\n",
    "    'emp001' : {'name':'jhon','age':27,'dept':'hr','slary':30000},\n",
    "    'emp002' : {'name':'smith','age':24,'dept':'engineering','slary':50000},\n",
    "    'emp003' : {'name':'mark','age':30,'dept':'finance','slary':40000}\n",
    "}\n",
    "print(company)"
   ]
  },
  {
   "cell_type": "code",
   "execution_count": 18,
   "metadata": {},
   "outputs": [
    {
     "name": "stdout",
     "output_type": "stream",
     "text": [
      "{'emp001': {'name': 'jhon', 'age': 27, 'dept': 'hr', 'slary': 30000},\n",
      " 'emp002': {'name': 'smith', 'age': 24, 'dept': 'engineering', 'slary': 50000},\n",
      " 'emp003': {'name': 'mark', 'age': 30, 'dept': 'finance', 'slary': 40000}}\n"
     ]
    }
   ],
   "source": [
    "from pprint import pp #structure form me show karta hai (preetyprint)\n",
    "pp(company)"
   ]
  },
  {
   "cell_type": "code",
   "execution_count": 19,
   "metadata": {},
   "outputs": [
    {
     "name": "stdout",
     "output_type": "stream",
     "text": [
      "jhon\n"
     ]
    }
   ],
   "source": [
    "print(company['emp001']['name'])# phle main dictonaru fir uske andarr ki key like subdic and then key of subdic "
   ]
  },
  {
   "cell_type": "code",
   "execution_count": 26,
   "metadata": {},
   "outputs": [
    {
     "name": "stdout",
     "output_type": "stream",
     "text": [
      "{'emp001': {'name': 'jhon', 'age': 27, 'dept': 'hr', 'slary': 30000}, 'emp002': {'name': 'smith', 'age': 24, 'dept': 'engineering', 'slary': 50000}, 'emp003': {'name': 'mark', 'age': 30, 'dept': 'finance', 'slary': 40000}, 'emp004': {'name': 'prince', 'age': 23, 'dept': 'data analyst', 'slary': 60000}}\n"
     ]
    }
   ],
   "source": [
    "company['emp004'] = {'name':'prince','age':23,'dept':'data analyst','slary':60000} # dictinoary add kar rhe hai iliye curly bracket us3e kiye hai \n",
    "print(company)"
   ]
  },
  {
   "cell_type": "code",
   "execution_count": 27,
   "metadata": {},
   "outputs": [
    {
     "name": "stdout",
     "output_type": "stream",
     "text": [
      "30\n",
      "40\n"
     ]
    }
   ],
   "source": [
    "print(temp['lucknow'][1])\n",
    "print(temp['delhi'][2])"
   ]
  },
  {
   "cell_type": "code",
   "execution_count": 29,
   "metadata": {},
   "outputs": [
    {
     "name": "stdout",
     "output_type": "stream",
     "text": [
      "Average temerature of delhi is : 35.0\n"
     ]
    }
   ],
   "source": [
    "# print average temperature of delhi \n",
    "print('Average temerature of delhi is :',sum(temp['delhi'])/len(temp['delhi']))"
   ]
  },
  {
   "cell_type": "code",
   "execution_count": 30,
   "metadata": {},
   "outputs": [
    {
     "name": "stdout",
     "output_type": "stream",
     "text": [
      "Average temperature od lucknow is : 30.0\n"
     ]
    }
   ],
   "source": [
    "print('Average temperature od lucknow is :',sum(temp['lucknow'])/len(temp['lucknow']))"
   ]
  },
  {
   "cell_type": "code",
   "execution_count": null,
   "metadata": {},
   "outputs": [],
   "source": []
  }
 ],
 "metadata": {
  "kernelspec": {
   "display_name": "base",
   "language": "python",
   "name": "python3"
  },
  "language_info": {
   "codemirror_mode": {
    "name": "ipython",
    "version": 3
   },
   "file_extension": ".py",
   "mimetype": "text/x-python",
   "name": "python",
   "nbconvert_exporter": "python",
   "pygments_lexer": "ipython3",
   "version": "3.12.3"
  }
 },
 "nbformat": 4,
 "nbformat_minor": 2
}
