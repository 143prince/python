{
 "cells": [
  {
   "cell_type": "markdown",
   "metadata": {},
   "source": [
    "# Indexing and Slicing"
   ]
  },
  {
   "cell_type": "code",
   "execution_count": 1,
   "metadata": {},
   "outputs": [
    {
     "name": "stdout",
     "output_type": "stream",
     "text": [
      "['google', 'microsoft', 'pubg', 'bgmi', 'watshapp', 'live chat', 'physics walla', 'map', 'youtube', 'gpay', 'phonepay', 'meeshoo', 'amazon']\n"
     ]
    }
   ],
   "source": [
    "apps = ['google','microsoft','pubg','bgmi','watshapp','live chat','physics walla','map','youtube','gpay','phonepay','meeshoo','amazon']\n",
    "print (apps)"
   ]
  },
  {
   "cell_type": "code",
   "execution_count": 5,
   "metadata": {},
   "outputs": [
    {
     "name": "stdout",
     "output_type": "stream",
     "text": [
      "pubg\n",
      "youtube\n",
      "phonepay\n",
      "map\n"
     ]
    }
   ],
   "source": [
    "print(apps[2])#indexing ka direction always left to right \n",
    "print(apps[8])\n",
    "print(apps[-3])\n",
    "print(apps[-6])"
   ]
  },
  {
   "cell_type": "code",
   "execution_count": 4,
   "metadata": {},
   "outputs": [
    {
     "name": "stdout",
     "output_type": "stream",
     "text": [
      "['pubg', 'bgmi', 'watshapp', 'live chat', 'physics walla', 'map']\n",
      "['google', 'pubg', 'watshapp', 'physics walla', 'youtube', 'phonepay', 'amazon']\n",
      "['google', 'microsoft', 'pubg', 'bgmi', 'watshapp', 'live chat']\n",
      "['bgmi', 'watshapp', 'live chat', 'physics walla', 'map', 'youtube', 'gpay', 'phonepay', 'meeshoo', 'amazon']\n",
      "['google', 'microsoft', 'pubg', 'bgmi', 'watshapp', 'live chat', 'physics walla', 'map', 'youtube', 'gpay', 'phonepay', 'meeshoo', 'amazon']\n"
     ]
    }
   ],
   "source": [
    "#Slicing (list ki sub list bnana)\n",
    "print(apps[2:8])\n",
    "print(apps[0:13:2])\n",
    "print(apps[:6])\n",
    "print(apps[3:])\n",
    "print(apps[:])\n"
   ]
  },
  {
   "cell_type": "markdown",
   "metadata": {},
   "source": [
    "# LIST METHODS\n",
    "- append()\n",
    "- insert()\n",
    "- pop()\n",
    "- remove()\n",
    "- sort()\n",
    "- reverse()\n",
    "- extend()\n",
    "- copy()\n",
    "- clear()\n"
   ]
  },
  {
   "cell_type": "code",
   "execution_count": 6,
   "metadata": {},
   "outputs": [
    {
     "name": "stdout",
     "output_type": "stream",
     "text": [
      "['google', 'microsoft', 'pubg', 'bgmi', 'watshapp', 'live chat', 'physics walla', 'map', 'youtube', 'gpay', 'phonepay', 'meeshoo', 'amazon']\n"
     ]
    }
   ],
   "source": [
    "print(apps)"
   ]
  },
  {
   "cell_type": "code",
   "execution_count": 7,
   "metadata": {},
   "outputs": [
    {
     "name": "stdout",
     "output_type": "stream",
     "text": [
      "['google', 'microsoft', 'pubg', 'bgmi', 'watshapp', 'live chat', 'physics walla', 'map', 'youtube', 'gpay', 'phonepay', 'meeshoo', 'amazon', 'snapchat']\n"
     ]
    }
   ],
   "source": [
    "#append is always use to add a content in list but always add at the end \n",
    "apps.append(\"snapchat\")\n",
    "print(apps)"
   ]
  },
  {
   "cell_type": "code",
   "execution_count": 8,
   "metadata": {},
   "outputs": [
    {
     "name": "stdout",
     "output_type": "stream",
     "text": [
      "['google', 'microsoft', 'pubg', 'bgmi', 'rapido', 'watshapp', 'live chat', 'physics walla', 'map', 'youtube', 'gpay', 'phonepay', 'meeshoo', 'amazon', 'snapchat']\n"
     ]
    }
   ],
   "source": [
    "apps.insert(4, \"rapido\")#insert is also use for addition \n",
    "print(apps)"
   ]
  },
  {
   "cell_type": "code",
   "execution_count": 9,
   "metadata": {},
   "outputs": [
    {
     "name": "stdout",
     "output_type": "stream",
     "text": [
      "['google', 'microsoft', 'pubg', 'bgmi', 'rapido', 'watshapp', 'live chat', 'map', 'youtube', 'gpay', 'phonepay', 'meeshoo', 'amazon', 'snapchat']\n"
     ]
    }
   ],
   "source": [
    "apps.pop(7)#pop function for deleting a item with the index \n",
    "print(apps)"
   ]
  },
  {
   "cell_type": "code",
   "execution_count": 10,
   "metadata": {},
   "outputs": [
    {
     "name": "stdout",
     "output_type": "stream",
     "text": [
      "['google', 'microsoft', 'bgmi', 'rapido', 'watshapp', 'live chat', 'map', 'youtube', 'gpay', 'phonepay', 'meeshoo', 'amazon', 'snapchat']\n"
     ]
    }
   ],
   "source": [
    "apps.remove('pubg')#remove function is used to delete a item with name \n",
    "print(apps)"
   ]
  },
  {
   "cell_type": "code",
   "execution_count": 11,
   "metadata": {},
   "outputs": [
    {
     "name": "stdout",
     "output_type": "stream",
     "text": [
      "['amazon', 'bgmi', 'google', 'gpay', 'live chat', 'map', 'meeshoo', 'microsoft', 'phonepay', 'rapido', 'snapchat', 'watshapp', 'youtube']\n"
     ]
    }
   ],
   "source": [
    "apps.sort()#sort function is used for arranging a list with 1st alphabet\n",
    "print(apps)"
   ]
  },
  {
   "cell_type": "code",
   "execution_count": 12,
   "metadata": {},
   "outputs": [
    {
     "name": "stdout",
     "output_type": "stream",
     "text": [
      "['youtube', 'watshapp', 'snapchat', 'rapido', 'phonepay', 'microsoft', 'meeshoo', 'map', 'live chat', 'gpay', 'google', 'bgmi', 'amazon']\n"
     ]
    }
   ],
   "source": [
    "apps.reverse()#just reverse the sort function \n",
    "print(apps)"
   ]
  },
  {
   "cell_type": "code",
   "execution_count": 13,
   "metadata": {},
   "outputs": [
    {
     "name": "stdout",
     "output_type": "stream",
     "text": [
      "['youtube', 'watshapp', 'snapchat', 'rapido', 'phonepay', 'microsoft', 'meeshoo', 'map', 'live chat', 'gpay', 'google', 'bgmi', 'amazon', 'twitter', 'telegram', 'freefire', 'calender', 'blinkit']\n"
     ]
    }
   ],
   "source": [
    "apps2 = ['twitter','telegram','freefire','calender','blinkit']#extend function is use for add more than one item in list\n",
    "apps.extend(apps2)\n",
    "print(apps)"
   ]
  },
  {
   "cell_type": "code",
   "execution_count": 14,
   "metadata": {},
   "outputs": [
    {
     "name": "stdout",
     "output_type": "stream",
     "text": [
      "['twitter', 'telegram', 'freefire', 'calender', 'blinkit']\n"
     ]
    }
   ],
   "source": [
    "apps2 = ['twitter','telegram','freefire','calender','blinkit']\n",
    "print(apps2)"
   ]
  },
  {
   "cell_type": "code",
   "execution_count": 15,
   "metadata": {},
   "outputs": [
    {
     "name": "stdout",
     "output_type": "stream",
     "text": [
      "['twitter', 'telegram', 'freefire', 'calender', 'blinkit', 'youtube', 'watshapp', 'snapchat', 'rapido', 'phonepay', 'microsoft', 'meeshoo', 'map', 'live chat', 'gpay', 'google', 'bgmi', 'amazon', 'twitter', 'telegram', 'freefire', 'calender', 'blinkit']\n"
     ]
    }
   ],
   "source": [
    "apps2.extend(apps)#ynaha pe hamne apps2 ko extend kiya hai isliye use phle likha hai \n",
    "print(apps2)"
   ]
  },
  {
   "cell_type": "code",
   "execution_count": 16,
   "metadata": {},
   "outputs": [
    {
     "name": "stdout",
     "output_type": "stream",
     "text": [
      "['youtube', 'watshapp', 'snapchat', 'rapido', 'phonepay', 'microsoft', 'meeshoo', 'map', 'live chat', 'gpay', 'google', 'bgmi', 'amazon', 'twitter', 'telegram', 'freefire', 'calender', 'blinkit']\n"
     ]
    }
   ],
   "source": [
    "b = apps.copy()\n",
    "print(b)"
   ]
  },
  {
   "cell_type": "code",
   "execution_count": 17,
   "metadata": {},
   "outputs": [
    {
     "name": "stdout",
     "output_type": "stream",
     "text": [
      "[]\n"
     ]
    }
   ],
   "source": [
    "apps.clear()\n",
    "print(apps)\n"
   ]
  },
  {
   "cell_type": "code",
   "execution_count": 18,
   "metadata": {},
   "outputs": [
    {
     "name": "stdout",
     "output_type": "stream",
     "text": [
      "['youtube', 'watshapp', 'snapchat', 'rapido', 'phonepay', 'microsoft', 'meeshoo', 'map', 'live chat', 'gpay', 'google', 'bgmi', 'amazon', 'twitter', 'telegram', 'freefire', 'calender', 'blinkit']\n"
     ]
    }
   ],
   "source": [
    "print(b)"
   ]
  },
  {
   "cell_type": "markdown",
   "metadata": {},
   "source": [
    "# LIST COMPREHENSION "
   ]
  },
  {
   "cell_type": "code",
   "execution_count": 3,
   "metadata": {},
   "outputs": [
    {
     "name": "stdout",
     "output_type": "stream",
     "text": [
      "[1, 4, 9, 16, 25, 36, 49, 64, 81, 100]\n"
     ]
    }
   ],
   "source": [
    "lst = [1,2,3,4,5,6,7,8,9,10]\n",
    "new_lst = []\n",
    "for i in lst:\n",
    "    new_lst.append(i**2)\n",
    "print(new_lst)"
   ]
  },
  {
   "cell_type": "code",
   "execution_count": 4,
   "metadata": {},
   "outputs": [
    {
     "name": "stdout",
     "output_type": "stream",
     "text": [
      "[1, 2, 3, 4, 5, 6, 7, 8, 9, 10]\n"
     ]
    }
   ],
   "source": [
    "print(lst)"
   ]
  },
  {
   "cell_type": "code",
   "execution_count": 5,
   "metadata": {},
   "outputs": [
    {
     "name": "stdout",
     "output_type": "stream",
     "text": [
      "[1, 4, 9, 16, 25, 36, 49, 64, 81, 100]\n"
     ]
    }
   ],
   "source": [
    "lst = [1,2,3,4,5,6,7,8,9,10]\n",
    "square = [i**2 for i in lst]\n",
    "print(square)"
   ]
  },
  {
   "cell_type": "code",
   "execution_count": 10,
   "metadata": {},
   "outputs": [
    {
     "name": "stdout",
     "output_type": "stream",
     "text": [
      "[2, 4, 6, 8, 10, 12, 14, 16, 18, 20]\n"
     ]
    }
   ],
   "source": [
    "num = [1,2,3,4,5,6,7,8,9,10,11,12,13,14,15,16,17,18,19,20]\n",
    "even_num = [i for i in num  if i%2== 0]\n",
    "print(even_num)"
   ]
  },
  {
   "cell_type": "markdown",
   "metadata": {},
   "source": [
    "- take a list of a fruit and print a new list of fruits where length is <6"
   ]
  },
  {
   "cell_type": "code",
   "execution_count": 1,
   "metadata": {},
   "outputs": [
    {
     "name": "stdout",
     "output_type": "stream",
     "text": [
      "['apple', 'kiwi']\n"
     ]
    }
   ],
   "source": [
    "fruits=['apple','banana','kiwi','orange','papaya','strawverry']\n",
    "fruits1=[i for i in fruits if len(i)<6]\n",
    "print(fruits1)\n",
    "\n"
   ]
  },
  {
   "cell_type": "code",
   "execution_count": 3,
   "metadata": {},
   "outputs": [
    {
     "name": "stdout",
     "output_type": "stream",
     "text": [
      "['APPLE', 'BANANA', 'KIWI', 'ORANGE', 'PAPAYA', 'STRAWVERRY']\n"
     ]
    }
   ],
   "source": [
    "fruits2 = [i.upper() for i in fruits]\n",
    "print(fruits2)"
   ]
  },
  {
   "cell_type": "code",
   "execution_count": 17,
   "metadata": {},
   "outputs": [
    {
     "name": "stdout",
     "output_type": "stream",
     "text": [
      "['apple', 'banana', 'orange', 'papaya', 'strawverry']\n"
     ]
    }
   ],
   "source": [
    "fruits = [i for i in fruits if 'a' in i]\n",
    "print(fruits)"
   ]
  },
  {
   "cell_type": "code",
   "execution_count": null,
   "metadata": {},
   "outputs": [],
   "source": []
  }
 ],
 "metadata": {
  "kernelspec": {
   "display_name": "base",
   "language": "python",
   "name": "python3"
  },
  "language_info": {
   "codemirror_mode": {
    "name": "ipython",
    "version": 3
   },
   "file_extension": ".py",
   "mimetype": "text/x-python",
   "name": "python",
   "nbconvert_exporter": "python",
   "pygments_lexer": "ipython3",
   "version": "3.12.3"
  }
 },
 "nbformat": 4,
 "nbformat_minor": 2
}
