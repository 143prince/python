{
 "cells": [
  {
   "cell_type": "code",
   "execution_count": 4,
   "metadata": {},
   "outputs": [
    {
     "name": "stdout",
     "output_type": "stream",
     "text": [
      "Hello from my_func\n"
     ]
    }
   ],
   "source": [
    "def my_func():#non parametrize function\n",
    "    print(\"Hello from my_func\")\n",
    "my_func()"
   ]
  },
  {
   "cell_type": "code",
   "execution_count": 3,
   "metadata": {},
   "outputs": [
    {
     "name": "stdout",
     "output_type": "stream",
     "text": [
      "Hello from my_func\n"
     ]
    }
   ],
   "source": [
    "my_func() #function calling"
   ]
  },
  {
   "cell_type": "code",
   "execution_count": 7,
   "metadata": {},
   "outputs": [
    {
     "name": "stdout",
     "output_type": "stream",
     "text": [
      "Hello jhon\n"
     ]
    }
   ],
   "source": [
    "def name(name):#name is a parameter  #parametrized function \n",
    "    print(\"Hello \"  + name)\n",
    "name(\"jhon\")#jhon is a argument"
   ]
  },
  {
   "cell_type": "code",
   "execution_count": 8,
   "metadata": {},
   "outputs": [
    {
     "name": "stdout",
     "output_type": "stream",
     "text": [
      "Hello jhon\n",
      "None\n"
     ]
    }
   ],
   "source": [
    "a = name(\"jhon\") \n",
    "print(a)#none\n",
    "\n"
   ]
  },
  {
   "cell_type": "code",
   "execution_count": 11,
   "metadata": {},
   "outputs": [
    {
     "data": {
      "text/plain": [
       "15"
      ]
     },
     "execution_count": 11,
     "metadata": {},
     "output_type": "execute_result"
    }
   ],
   "source": [
    "# VOid function\n",
    "def func(x):\n",
    "    return 5*x\n",
    "func(3)"
   ]
  },
  {
   "cell_type": "code",
   "execution_count": 12,
   "metadata": {},
   "outputs": [
    {
     "name": "stdout",
     "output_type": "stream",
     "text": [
      "15\n"
     ]
    }
   ],
   "source": [
    "a= func(3)\n",
    "print(a)"
   ]
  },
  {
   "cell_type": "code",
   "execution_count": 13,
   "metadata": {},
   "outputs": [
    {
     "name": "stdout",
     "output_type": "stream",
     "text": [
      "I am from USA\n",
      "I am from UK\n",
      "I am from India\n",
      "I am from Canada\n"
     ]
    }
   ],
   "source": [
    "# DEFAULT PARAMETERIZED FUNCTION\n",
    "def my_country(country = \"India\"):\n",
    "    print(\"I am from \" + country)\n",
    "\n",
    "my_country(\"USA\")\n",
    "my_country(\"UK\")\n",
    "my_country()\n",
    "my_country(\"Canada\")"
   ]
  },
  {
   "cell_type": "code",
   "execution_count": 15,
   "metadata": {},
   "outputs": [
    {
     "name": "stdout",
     "output_type": "stream",
     "text": [
      "apple\n",
      "banana\n",
      "cheery\n"
     ]
    }
   ],
   "source": [
    "def fruits(fruit):\n",
    "    for x in fruit:\n",
    "        print(x)\n",
    "\n",
    "fruits([\"apple\",\"banana\",\"cheery\"])"
   ]
  },
  {
   "cell_type": "code",
   "execution_count": 23,
   "metadata": {},
   "outputs": [],
   "source": [
    "def evenodd(a):\n",
    "    if a%2==0:\n",
    "        return(True)\n",
    "    else:\n",
    "        return(False)\n",
    "    "
   ]
  },
  {
   "cell_type": "code",
   "execution_count": 24,
   "metadata": {},
   "outputs": [
    {
     "data": {
      "text/plain": [
       "True"
      ]
     },
     "execution_count": 24,
     "metadata": {},
     "output_type": "execute_result"
    }
   ],
   "source": [
    "evenodd(32)"
   ]
  },
  {
   "cell_type": "code",
   "execution_count": 20,
   "metadata": {},
   "outputs": [
    {
     "data": {
      "text/plain": [
       "False"
      ]
     },
     "execution_count": 20,
     "metadata": {},
     "output_type": "execute_result"
    }
   ],
   "source": [
    "evenodd(33)"
   ]
  },
  {
   "cell_type": "code",
   "execution_count": 27,
   "metadata": {},
   "outputs": [
    {
     "data": {
      "text/plain": [
       "5"
      ]
     },
     "execution_count": 27,
     "metadata": {},
     "output_type": "execute_result"
    }
   ],
   "source": [
    "def sum(a,b):\n",
    "    return a+b\n",
    "sum(2,3)"
   ]
  },
  {
   "cell_type": "code",
   "execution_count": 26,
   "metadata": {},
   "outputs": [
    {
     "name": "stdout",
     "output_type": "stream",
     "text": [
      "5\n"
     ]
    }
   ],
   "source": [
    "# LAMBDA FUNCTION\n",
    "add = lambda a,b : a+b\n",
    "print(add(2,3))"
   ]
  },
  {
   "cell_type": "code",
   "execution_count": 28,
   "metadata": {},
   "outputs": [
    {
     "name": "stdout",
     "output_type": "stream",
     "text": [
      "True\n"
     ]
    }
   ],
   "source": [
    "# even odd using lambda\n",
    "even = lambda a: a%2 == 0\n",
    "print(even(2))"
   ]
  },
  {
   "cell_type": "code",
   "execution_count": 29,
   "metadata": {},
   "outputs": [
    {
     "data": {
      "text/plain": [
       "('welcome', 'to', 'digipodium')"
      ]
     },
     "execution_count": 29,
     "metadata": {},
     "output_type": "execute_result"
    }
   ],
   "source": [
    "def myfunc():\n",
    "    return\"welcome\",\"to\",\"digipodium\"\n",
    "myfunc()"
   ]
  },
  {
   "cell_type": "code",
   "execution_count": 30,
   "metadata": {},
   "outputs": [
    {
     "name": "stdout",
     "output_type": "stream",
     "text": [
      "welcome\n",
      "to\n",
      "digipodium\n"
     ]
    }
   ],
   "source": [
    "a,b,c = myfunc()\n",
    "print(a)\n",
    "print(b)\n",
    "print(c)"
   ]
  },
  {
   "cell_type": "markdown",
   "metadata": {},
   "source": [
    "- check  a number is prime or not\n",
    "- convert temperature celcius to fahrenheit\n",
    "- find maxiumum of three numbers\n",
    "- Calculate factorial\n",
    "- Reverse of a string\n",
    "- Count vowels in a string\n",
    "- calculate BMI(Body Mass Index)"
   ]
  },
  {
   "cell_type": "markdown",
   "metadata": {},
   "source": [
    "- BUILT- IN FUNCTIONS"
   ]
  },
  {
   "cell_type": "code",
   "execution_count": 4,
   "metadata": {},
   "outputs": [],
   "source": [
    "import math #math is a library"
   ]
  },
  {
   "cell_type": "code",
   "execution_count": 3,
   "metadata": {},
   "outputs": [
    {
     "name": "stdout",
     "output_type": "stream",
     "text": [
      "4.0\n",
      "120\n",
      "3.141592653589793\n",
      "12\n",
      "0.8939966636005579\n",
      "-0.4480736161291701\n",
      "24\n"
     ]
    }
   ],
   "source": [
    "print(math.sqrt(16))#sqrt is a method \n",
    "print(math.factorial(5))\n",
    "print(math.pi)\n",
    "print(math.gcd(12,24))\n",
    "print(math.sin(90))\n",
    "print(math.cos(90))\n",
    "print(math.lcm(12,24))"
   ]
  },
  {
   "cell_type": "code",
   "execution_count": 12,
   "metadata": {},
   "outputs": [],
   "source": [
    "from random import random , randint , choice , shuffle #random is a library"
   ]
  },
  {
   "cell_type": "code",
   "execution_count": 11,
   "metadata": {},
   "outputs": [
    {
     "name": "stdout",
     "output_type": "stream",
     "text": [
      "get a random number between 0 and 2 :  0.6988054450661948\n",
      "get arandom integer between 0 and 2: 2\n",
      "get a random element form a list: 2\n",
      "shuffle a list: ['Bob', 'Jhon', 'Smith', 'Alice']\n"
     ]
    }
   ],
   "source": [
    "print('get a random number between 0 and 2 : ', random()) #random function hameha decimal me hi value deta hai\n",
    "print('get arandom integer between 0 and 2:', randint(0,2))# randint function hamesha integer value dega  \n",
    "print('get a random element form a list:', choice([1,2,3,4,5]))# choice function hmehsa list me se hi koi bhi chhez de dega \n",
    "names = ['Jhon','Smith','Alice','Bob']# shuffle function hamesha shuffle karta hai kisi bhi list ya tuple ae\n",
    "shuffle(names)\n",
    "print('shuffle a list:',names)"
   ]
  },
  {
   "cell_type": "code",
   "execution_count": 16,
   "metadata": {},
   "outputs": [],
   "source": [
    "from datetime import datetime as dt #dt is library"
   ]
  },
  {
   "cell_type": "code",
   "execution_count": 14,
   "metadata": {},
   "outputs": [
    {
     "name": "stdout",
     "output_type": "stream",
     "text": [
      "Current Date and Time :  2024-09-06 10:12:34.603410\n",
      "Current Date : 2024-09-06\n",
      "Current Time : 10:12:34.604580\n"
     ]
    }
   ],
   "source": [
    "print ('Current Date and Time : ',dt.now())\n",
    "print('Current Date :',dt.now().date())\n",
    "print('Current Time :',dt.now().time())"
   ]
  },
  {
   "cell_type": "code",
   "execution_count": 15,
   "metadata": {},
   "outputs": [
    {
     "name": "stdout",
     "output_type": "stream",
     "text": [
      "Current Year : 2024\n",
      "Current Month: 9\n",
      "Current Day : 6\n",
      "Current Hour : 10\n",
      "Current Minute : 17\n",
      "Current Second : 39\n",
      "Current Microsecond : 918698\n",
      "Current Weekday : 4\n"
     ]
    }
   ],
   "source": [
    "print('Current Year :',dt.now().year)\n",
    "print('Current Month:',dt.now().month)\n",
    "print('Current Day :',dt.now().day)\n",
    "print('Current Hour :',dt.now().hour)\n",
    "print('Current Minute :',dt.now().minute)\n",
    "print('Current Second :',dt.now().second)\n",
    "print('Current Microsecond :',dt.now().microsecond)\n",
    "print('Current Weekday :',dt.now().weekday())\n"
   ]
  },
  {
   "cell_type": "code",
   "execution_count": 18,
   "metadata": {},
   "outputs": [
    {
     "name": "stdout",
     "output_type": "stream",
     "text": [
      "Current Date: 06-09-24\n"
     ]
    }
   ],
   "source": [
    "date = dt.strftime(dt.now(),'%d-%m-%y') #aise ham phle date, month, year ko shuffle kar skte hai \n",
    "print('Current Date:',date)"
   ]
  },
  {
   "cell_type": "code",
   "execution_count": 19,
   "metadata": {},
   "outputs": [
    {
     "name": "stdout",
     "output_type": "stream",
     "text": [
      "Current Time : 10-27-49\n"
     ]
    }
   ],
   "source": [
    "time = dt.strftime(dt.now(),'%H-%M-%S') #aise ham time ko dekhne ka view set krte hai aur hme ye capital me hi dena padega \n",
    "print('Current Time :',time)"
   ]
  },
  {
   "cell_type": "code",
   "execution_count": 20,
   "metadata": {},
   "outputs": [],
   "source": [
    "import os # os library know about folders, files, and directories"
   ]
  },
  {
   "cell_type": "code",
   "execution_count": 22,
   "metadata": {},
   "outputs": [
    {
     "name": "stdout",
     "output_type": "stream",
     "text": [
      "Current Folder : c:\\Users\\hp\\Downloads\\2024 aug batch\n"
     ]
    }
   ],
   "source": [
    "print('Current Folder :',os.getcwd()) #current working directories ki information deta hai "
   ]
  },
  {
   "cell_type": "code",
   "execution_count": 24,
   "metadata": {},
   "outputs": [
    {
     "name": "stdout",
     "output_type": "stream",
     "text": [
      "Files and Folders in current directory : ['.git', 'Basic.py', 'Basics.ipynb', 'condition.ipynb', 'Data structure', 'Function.ipynb', 'loops.ipynb', 'practice.ipynb', 'variables.ipynb']\n",
      "9\n"
     ]
    }
   ],
   "source": [
    "files = os.listdir()#list all files and folders in current directory\n",
    "print('Files and Folders in current directory :', files)\n",
    "print(len(files))"
   ]
  },
  {
   "cell_type": "code",
   "execution_count": 25,
   "metadata": {},
   "outputs": [
    {
     "name": "stdout",
     "output_type": "stream",
     "text": [
      "File and Folders in current directory : ['!qhlogs.doc', 'Custom Office Templates', 'desktop.ini', 'Downloads', 'Print Form (2).,.pdf', 'Software-Development-Life-Cycle ppt1.pptx', 'TOPIC – SOFTWARE DEVELOPMENT LIFE CYCLE.pptx']\n",
      "7\n"
     ]
    }
   ],
   "source": [
    "file = os.listdir(r\"C:\\Users\\hp\\OneDrive\\Documents\") # r is use to recorgnize path\n",
    "print('File and Folders in current directory :',file)\n",
    "print(len(file))\n",
    "\n"
   ]
  },
  {
   "cell_type": "code",
   "execution_count": 27,
   "metadata": {},
   "outputs": [
    {
     "data": {
      "text/plain": [
       "<generator object walk at 0x000001CA10362CD0>"
      ]
     },
     "execution_count": 27,
     "metadata": {},
     "output_type": "execute_result"
    }
   ],
   "source": [
    "os.walk('C:') #use to give all the doc inside the directory"
   ]
  },
  {
   "cell_type": "code",
   "execution_count": 28,
   "metadata": {},
   "outputs": [
    {
     "name": "stdout",
     "output_type": "stream",
     "text": [
      "=> C:\n",
      "📁 ['.git', 'Data structure']\n",
      "📄 ['Basic.py', 'Basics.ipynb', 'condition.ipynb', 'Function.ipynb', 'loops.ipynb', 'practice.ipynb', 'variables.ipynb']\n",
      "=> C:.git\n",
      "📁 ['hooks', 'info', 'logs', 'objects', 'refs']\n",
      "📄 ['COMMIT_EDITMSG', 'config', 'description', 'FETCH_HEAD', 'HEAD', 'index', 'ORIG_HEAD']\n",
      "=> C:.git\\hooks\n",
      "📁 []\n",
      "📄 ['applypatch-msg.sample', 'commit-msg.sample', 'fsmonitor-watchman.sample', 'post-update.sample', 'pre-applypatch.sample', 'pre-commit.sample', 'pre-merge-commit.sample', 'pre-push.sample', 'pre-rebase.sample', 'pre-receive.sample', 'prepare-commit-msg.sample', 'push-to-checkout.sample', 'sendemail-validate.sample', 'update.sample']\n",
      "=> C:.git\\info\n",
      "📁 []\n",
      "📄 ['exclude']\n",
      "=> C:.git\\logs\n",
      "📁 ['refs']\n",
      "📄 ['HEAD']\n",
      "=> C:.git\\logs\\refs\n",
      "📁 ['heads', 'remotes']\n",
      "📄 []\n",
      "=> C:.git\\logs\\refs\\heads\n",
      "📁 []\n",
      "📄 ['main']\n",
      "=> C:.git\\logs\\refs\\remotes\n",
      "📁 ['origin']\n",
      "📄 []\n",
      "=> C:.git\\logs\\refs\\remotes\\origin\n",
      "📁 []\n",
      "📄 ['main']\n",
      "=> C:.git\\objects\n",
      "📁 ['04', '08', '0e', '11', '14', '1a', '1e', '23', '24', '36', '39', '3c', '41', '44', '4a', '54', '69', '6a', '70', '7b', '7d', '87', '93', '95', 'b0', 'b6', 'ce', 'd4', 'd6', 'dd', 'e6', 'ee', 'fb', 'fc', 'fe', 'info', 'pack']\n",
      "📄 []\n",
      "=> C:.git\\objects\\04\n",
      "📁 []\n",
      "📄 ['5a2fd31528ac0785d68aea57f58732a83310ec']\n",
      "=> C:.git\\objects\\08\n",
      "📁 []\n",
      "📄 ['185a9e20f924af5010c9cdb499fd7acaa42c83']\n",
      "=> C:.git\\objects\\0e\n",
      "📁 []\n",
      "📄 ['020453ea1f5577d26a724bc20a4d5e4ea7bdc4']\n",
      "=> C:.git\\objects\\11\n",
      "📁 []\n",
      "📄 ['2813a62c5447b3bf4b26d7897903f0b2a767ee']\n",
      "=> C:.git\\objects\\14\n",
      "📁 []\n",
      "📄 ['c94b8c5123e1f8ef888b6f35d81eee7d2e6cbf']\n",
      "=> C:.git\\objects\\1a\n",
      "📁 []\n",
      "📄 ['dc8596bd5133ba5ea814cd490fc1694355f201']\n",
      "=> C:.git\\objects\\1e\n",
      "📁 []\n",
      "📄 ['04e04f92286d9c5fcbe5bb2a8c4c701181280e']\n",
      "=> C:.git\\objects\\23\n",
      "📁 []\n",
      "📄 ['459b9f53ac64544f66398c385fd2018603ae30']\n",
      "=> C:.git\\objects\\24\n",
      "📁 []\n",
      "📄 ['0106bee401887eda7656bed06459f21eaf18d4']\n",
      "=> C:.git\\objects\\36\n",
      "📁 []\n",
      "📄 ['c05ed52571135c2f6031ac392e9867180a406d']\n",
      "=> C:.git\\objects\\39\n",
      "📁 []\n",
      "📄 ['57f303fc460cd179a88cefd4a770ec233bae79']\n",
      "=> C:.git\\objects\\3c\n",
      "📁 []\n",
      "📄 ['668a3524a449cd296a7e4a2914bb6ea0bea136']\n",
      "=> C:.git\\objects\\41\n",
      "📁 []\n",
      "📄 ['3303369b59ac37ff394bc465c1d9f47fb99395']\n",
      "=> C:.git\\objects\\44\n",
      "📁 []\n",
      "📄 ['042f917863ecb99b3533e5512dd63a61287c65']\n",
      "=> C:.git\\objects\\4a\n",
      "📁 []\n",
      "📄 ['347cf2bc7dba646fef89106c02dda740cb9d56']\n",
      "=> C:.git\\objects\\54\n",
      "📁 []\n",
      "📄 ['606a9a6090ec8e4da3afabc0d1838bd20d295b']\n",
      "=> C:.git\\objects\\69\n",
      "📁 []\n",
      "📄 ['000938c92aeb65859d540b2a8e37ec1aa81e90']\n",
      "=> C:.git\\objects\\6a\n",
      "📁 []\n",
      "📄 ['51bfd95bf1f671cbfa0a2c366b0120f73af19d']\n",
      "=> C:.git\\objects\\70\n",
      "📁 []\n",
      "📄 ['9d82cff5441273c179920d46f936095fd29ac8']\n",
      "=> C:.git\\objects\\7b\n",
      "📁 []\n",
      "📄 ['183615b0527377aae7f4b7d49c9db958ccaebc']\n",
      "=> C:.git\\objects\\7d\n",
      "📁 []\n",
      "📄 ['545c55255f57f56c00139319376a3bcbc1e705', 'c4b154c42b968cea0057f28c17cb54b168d88a']\n",
      "=> C:.git\\objects\\87\n",
      "📁 []\n",
      "📄 ['bd503d7253253c9b3c326867014034ff6bd266']\n",
      "=> C:.git\\objects\\93\n",
      "📁 []\n",
      "📄 ['71978be3c852986227508489be74c35808c8e6']\n",
      "=> C:.git\\objects\\95\n",
      "📁 []\n",
      "📄 ['15e6322715bde6e872d8edd81429e4d211cef9']\n",
      "=> C:.git\\objects\\b0\n",
      "📁 []\n",
      "📄 ['c5b2fb9d90f83227d895c18f0174c2f23bc34b']\n",
      "=> C:.git\\objects\\b6\n",
      "📁 []\n",
      "📄 ['47ff8b45e51341ee3b8bf94f606884bf0f1cac']\n",
      "=> C:.git\\objects\\ce\n",
      "📁 []\n",
      "📄 ['3b0016bf32e263fe84636d8013c3da0f5f6857']\n",
      "=> C:.git\\objects\\d4\n",
      "📁 []\n",
      "📄 ['fcb9575cc36db9d4a3c49d00dd77de83a14d06']\n",
      "=> C:.git\\objects\\d6\n",
      "📁 []\n",
      "📄 ['27faac6840c6617094f49d005cdbe607c063f3']\n",
      "=> C:.git\\objects\\dd\n",
      "📁 []\n",
      "📄 ['3a7f945ffc2b1c7e4df8ea98a959cade4a5ff8']\n",
      "=> C:.git\\objects\\e6\n",
      "📁 []\n",
      "📄 ['9de29bb2d1d6434b8b29ae775ad8c2e48c5391']\n",
      "=> C:.git\\objects\\ee\n",
      "📁 []\n",
      "📄 ['d21341b250ea79ea2685b3ff3ced8f7a915c5f']\n",
      "=> C:.git\\objects\\fb\n",
      "📁 []\n",
      "📄 ['d3f22ead66b12a0acedef81b6e758a3c0a944a']\n",
      "=> C:.git\\objects\\fc\n",
      "📁 []\n",
      "📄 ['634f559a136bec63af79f4a0b09a233070ab7c']\n",
      "=> C:.git\\objects\\fe\n",
      "📁 []\n",
      "📄 ['19899a503624d2bc4b24df334ed0a2eb789fcf']\n",
      "=> C:.git\\objects\\info\n",
      "📁 []\n",
      "📄 []\n",
      "=> C:.git\\objects\\pack\n",
      "📁 []\n",
      "📄 []\n",
      "=> C:.git\\refs\n",
      "📁 ['heads', 'remotes', 'tags']\n",
      "📄 []\n",
      "=> C:.git\\refs\\heads\n",
      "📁 []\n",
      "📄 ['main']\n",
      "=> C:.git\\refs\\remotes\n",
      "📁 ['origin']\n",
      "📄 []\n",
      "=> C:.git\\refs\\remotes\\origin\n",
      "📁 []\n",
      "📄 ['main']\n",
      "=> C:.git\\refs\\tags\n",
      "📁 []\n",
      "📄 []\n",
      "=> C:Data structure\n",
      "📁 []\n",
      "📄 ['Dictionary.ipynb', 'list.ipynb', 'Sets.ipynb', 'String.ipynb']\n",
      "Total Files : 74\n"
     ]
    }
   ],
   "source": [
    "total_files = 0 \n",
    "for path, folders, files in os.walk(\"C:\"):\n",
    "    print('=>',path)\n",
    "    print(\"📁\",folders)\n",
    "    print('📄',files)\n",
    "    total_files += len(files)\n",
    "print('Total Files :', total_files)"
   ]
  },
  {
   "cell_type": "code",
   "execution_count": 29,
   "metadata": {},
   "outputs": [
    {
     "name": "stdout",
     "output_type": "stream",
     "text": [
      "Folder Exists\n"
     ]
    }
   ],
   "source": [
    "files = r\"C:\\Users\\hp\\OneDrive\\Documents\"\n",
    "if os.path.exists(files):\n",
    "    print('Folder Exists')\n",
    "else:\n",
    "    print('folder does not exist')"
   ]
  },
  {
   "cell_type": "code",
   "execution_count": 31,
   "metadata": {},
   "outputs": [
    {
     "name": "stdout",
     "output_type": "stream",
     "text": [
      "Folder Exists\n",
      "size in bytes: 4096 bytes\n",
      "size in KB: 4.0 KB\n",
      "size in MB: 0.00390625 MB\n",
      "size in Gb: 3.814697265625e-06 GB\n"
     ]
    }
   ],
   "source": [
    "files = r\"C:\\Users\\hp\\OneDrive\\Documents\"\n",
    "if os.path.exists(files):\n",
    "    print('Folder Exists')\n",
    "    size = os.path.getsize(files)\n",
    "    print(\"size in bytes:\", size, 'bytes')\n",
    "    print('size in KB:',size/1024,'KB')\n",
    "    print('size in MB:',size/1024/1024,'MB')\n",
    "    print('size in Gb:',size/1024/1024/1024,'GB')"
   ]
  },
  {
   "cell_type": "code",
   "execution_count": null,
   "metadata": {},
   "outputs": [],
   "source": []
  }
 ],
 "metadata": {
  "kernelspec": {
   "display_name": "base",
   "language": "python",
   "name": "python3"
  },
  "language_info": {
   "codemirror_mode": {
    "name": "ipython",
    "version": 3
   },
   "file_extension": ".py",
   "mimetype": "text/x-python",
   "name": "python",
   "nbconvert_exporter": "python",
   "pygments_lexer": "ipython3",
   "version": "3.12.3"
  }
 },
 "nbformat": 4,
 "nbformat_minor": 2
}
